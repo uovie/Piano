{
 "cells": [
  {
   "cell_type": "markdown",
   "metadata": {},
   "source": [
    "# Piano"
   ]
  },
  {
   "cell_type": "markdown",
   "metadata": {},
   "source": [
    "Piano is a molecular dynamics program developed by Haoyu Lin, the first two characters of which stands for \"path integral\".\n",
    "\n",
    "* Author: Haoyu Lin\n",
    "* E-mail: vileoy@pku.edu.cn\n",
    "* Repo: [uovie/Piano](https://github.com/uovie/Piano) `private`"
   ]
  },
  {
   "cell_type": "markdown",
   "metadata": {},
   "source": [
    "## 1 Releases"
   ]
  },
  {
   "cell_type": "markdown",
   "metadata": {},
   "source": [
    "The version 1.0.0 beta of Piano has completed, but not been released. Currently, it only integrates tiny part of functions, including certain classical dynamic simulations in the constant temperature and quantum statistical calculations based on path integral molecular dynamics."
   ]
  },
  {
   "cell_type": "markdown",
   "metadata": {},
   "source": [
    "## 2 Instructions"
   ]
  },
  {
   "cell_type": "markdown",
   "metadata": {},
   "source": [
    "* usage tips\n",
    "\n",
    "  Piano only accepts `.vie` type input files. Type the following command to run a calculation:\n",
    "\n",
    "  ```shell\n",
    "  ./Piano-1.0.0 test.vie\n",
    "  ```\n",
    "\n",
    "* compile tips\n",
    "\n",
    "  If you want to compile it by yourself, just invoke `make` under `src` directory ."
   ]
  },
  {
   "cell_type": "markdown",
   "metadata": {},
   "source": [
    "## 3 Supports"
   ]
  },
  {
   "cell_type": "markdown",
   "metadata": {},
   "source": [
    "* Classical Dynamics\n",
    "  * Langevin dynamics (side; middle)\n",
    "  * Andersen thermostat (side; middle)\n",
    "  * Nose-Hoover chain (global, side; global, local; local, side; local, middle)\n",
    "* Quantum Statistical Mechanics\n",
    "  * PIMD via LD (side; middle)\n",
    "  * PIMD via AT (side; middle)\n",
    "  * PIMD via NHC (local, side; local, middle)"
   ]
  }
 ],
 "metadata": {
  "kernelspec": {
   "display_name": "Python 3",
   "language": "python",
   "name": "python3"
  },
  "language_info": {
   "codemirror_mode": {
    "name": "ipython",
    "version": 3
   },
   "file_extension": ".py",
   "mimetype": "text/x-python",
   "name": "python",
   "nbconvert_exporter": "python",
   "pygments_lexer": "ipython3",
   "version": "3.7.3"
  }
 },
 "nbformat": 4,
 "nbformat_minor": 2
}
