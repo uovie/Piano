{
 "cells": [
  {
   "cell_type": "markdown",
   "metadata": {},
   "source": [
    "# Input File Format"
   ]
  },
  {
   "cell_type": "markdown",
   "metadata": {},
   "source": [
    "## Piano adopts a special input format:"
   ]
  },
  {
   "cell_type": "markdown",
   "metadata": {},
   "source": [
    "```\n",
    "[job] [description1] [description2] ...\n",
    "\n",
    "[run time] [step size] [data collection period]\n",
    "\n",
    "[dimension] [volume] [temperature] [pressure]\n",
    "\n",
    "[model type] [model parameter1] [model parameter2] ...\n",
    "\n",
    "*****\n",
    "[number of atoms]\n",
    "\n",
    "[atom symbol]    [ Rx ]    [ Ry ]    [ Rz ]\n",
    "[atom symbol]    [ Rx ]    [ Ry ]    [ Rz ]\n",
    "[atom symbol]    [ Rx ]    [ Ry ]    [ Rz ]\n",
    "... ...\n",
    "```"
   ]
  },
  {
   "cell_type": "markdown",
   "metadata": {},
   "source": [
    "For instance, a practical Piano input file looks like this:"
   ]
  },
  {
   "cell_type": "markdown",
   "metadata": {},
   "source": [
    "```\n",
    "pimd nhc middle\n",
    "\n",
    "1e6 0.1 100\n",
    "\n",
    "3 0 14 0\n",
    "\n",
    "LJ 35.6 2.749\n",
    "\n",
    "*****\n",
    "13\n",
    "\n",
    "Ne    0.00000000    0.00000000    0.00000000\n",
    "Ne    0.00000000    2.18188274    2.18188274\n",
    "Ne    0.00000000   -2.18188274    2.18188274\n",
    "Ne    0.00000000   -2.18188274   -2.18188274\n",
    "Ne    0.00000000    2.18188274   -2.18188274\n",
    "Ne    2.18188274    0.00000000    2.18188274\n",
    "Ne    2.18188274    0.00000000   -2.18188274\n",
    "Ne   -2.18188274    0.00000000   -2.18188274\n",
    "Ne   -2.18188274    0.00000000    2.18188274\n",
    "Ne    2.18188274    2.18188274    0.00000000\n",
    "Ne   -2.18188274    2.18188274    0.00000000\n",
    "Ne   -2.18188274   -2.18188274    0.00000000\n",
    "Ne    2.18188274   -2.18188274    0.00000000\n",
    "```"
   ]
  }
 ],
 "metadata": {
  "kernelspec": {
   "display_name": "Python 3",
   "language": "python",
   "name": "python3"
  },
  "language_info": {
   "codemirror_mode": {
    "name": "ipython",
    "version": 3
   },
   "file_extension": ".py",
   "mimetype": "text/x-python",
   "name": "python",
   "nbconvert_exporter": "python",
   "pygments_lexer": "ipython3",
   "version": "3.7.3"
  }
 },
 "nbformat": 4,
 "nbformat_minor": 2
}
